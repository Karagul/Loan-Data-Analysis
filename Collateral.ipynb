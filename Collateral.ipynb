{
 "cells": [
  {
   "cell_type": "code",
   "execution_count": 28,
   "metadata": {},
   "outputs": [],
   "source": [
    "import pandas as pd\n",
    "import numpy as nm"
   ]
  },
  {
   "cell_type": "code",
   "execution_count": 53,
   "metadata": {},
   "outputs": [
    {
     "data": {
      "text/plain": [
       "(98179, 40)"
      ]
     },
     "execution_count": 53,
     "metadata": {},
     "output_type": "execute_result"
    }
   ],
   "source": [
    "# read the data\n",
    "d1=pd.read_excel('D:\\GoogleDrive\\custom Codes\\Mar18\\Rating\\Loan_Data2.xlsx')\n",
    "# see the dimension\n",
    "d1.shape"
   ]
  },
  {
   "cell_type": "code",
   "execution_count": 54,
   "metadata": {},
   "outputs": [
    {
     "data": {
      "text/html": [
       "<div>\n",
       "<style scoped>\n",
       "    .dataframe tbody tr th:only-of-type {\n",
       "        vertical-align: middle;\n",
       "    }\n",
       "\n",
       "    .dataframe tbody tr th {\n",
       "        vertical-align: top;\n",
       "    }\n",
       "\n",
       "    .dataframe thead th {\n",
       "        text-align: right;\n",
       "    }\n",
       "</style>\n",
       "<table border=\"1\" class=\"dataframe\">\n",
       "  <thead>\n",
       "    <tr style=\"text-align: right;\">\n",
       "      <th></th>\n",
       "      <th>BRANCH_ID</th>\n",
       "      <th>BRANCH_NM</th>\n",
       "      <th>CUSTOMER_ID</th>\n",
       "      <th>CUSTOMER_GROUP_ID</th>\n",
       "      <th>ACCOUNT_NO</th>\n",
       "      <th>ACCOUNT_TITLE</th>\n",
       "      <th>PROPOSAL_ID</th>\n",
       "      <th>COMMITMENT_ID</th>\n",
       "      <th>CUSTOMER_CATEGORY_ID</th>\n",
       "      <th>CUSTOMER_CONCENTRATION_ID</th>\n",
       "      <th>...</th>\n",
       "      <th>COMMIT_COL_VALUE</th>\n",
       "      <th>COLLATERAL_TYPE_ID</th>\n",
       "      <th>COLLATERAL_TYPE_NM</th>\n",
       "      <th>COLLATERAL_ID</th>\n",
       "      <th>COLLATERAL_CATEGORY</th>\n",
       "      <th>COLLATERAL_DESCRIP</th>\n",
       "      <th>COLLATERAL_FV_MV_VALUE</th>\n",
       "      <th>ELIGIBLE_SECURITY_VALUE</th>\n",
       "      <th>INTEREST_SUSPENSE</th>\n",
       "      <th>ACCOUNT_STATUS_ID</th>\n",
       "    </tr>\n",
       "  </thead>\n",
       "  <tbody>\n",
       "    <tr>\n",
       "      <th>1</th>\n",
       "      <td>1271</td>\n",
       "      <td>Local Office</td>\n",
       "      <td>0000004607</td>\n",
       "      <td>NaN</td>\n",
       "      <td>63900000002</td>\n",
       "      <td>MD.  YEAKUB MOJUMDER</td>\n",
       "      <td>280491</td>\n",
       "      <td>172197</td>\n",
       "      <td>1.0</td>\n",
       "      <td>8.0</td>\n",
       "      <td>...</td>\n",
       "      <td>0.00</td>\n",
       "      <td>NaN</td>\n",
       "      <td>NaN</td>\n",
       "      <td>NaN</td>\n",
       "      <td>NaN</td>\n",
       "      <td>NaN</td>\n",
       "      <td>NaN</td>\n",
       "      <td>NaN</td>\n",
       "      <td>NaN</td>\n",
       "      <td>1</td>\n",
       "    </tr>\n",
       "    <tr>\n",
       "      <th>2</th>\n",
       "      <td>1545</td>\n",
       "      <td>Corporate Branch</td>\n",
       "      <td>0000004638</td>\n",
       "      <td>NaN</td>\n",
       "      <td>63900005929</td>\n",
       "      <td>MD SIDDIQUR RAHMAN</td>\n",
       "      <td>265511</td>\n",
       "      <td>165547</td>\n",
       "      <td>1.0</td>\n",
       "      <td>1.0</td>\n",
       "      <td>...</td>\n",
       "      <td>0.00</td>\n",
       "      <td>NaN</td>\n",
       "      <td>NaN</td>\n",
       "      <td>NaN</td>\n",
       "      <td>NaN</td>\n",
       "      <td>NaN</td>\n",
       "      <td>NaN</td>\n",
       "      <td>NaN</td>\n",
       "      <td>NaN</td>\n",
       "      <td>1</td>\n",
       "    </tr>\n",
       "    <tr>\n",
       "      <th>3</th>\n",
       "      <td>1271</td>\n",
       "      <td>Local Office</td>\n",
       "      <td>0000005131</td>\n",
       "      <td>NaN</td>\n",
       "      <td>61306116836</td>\n",
       "      <td>AMBIA AKTER</td>\n",
       "      <td>350725</td>\n",
       "      <td>204689</td>\n",
       "      <td>1.0</td>\n",
       "      <td>1.0</td>\n",
       "      <td>...</td>\n",
       "      <td>169000.00</td>\n",
       "      <td>3.0</td>\n",
       "      <td>Lien/Pledge of Deposits (Earmark Funds)</td>\n",
       "      <td>793.0</td>\n",
       "      <td>BLOCK OF DEPOSIT A/C(FDR,MMP,DBDS,SCHEMES)</td>\n",
       "      <td>MDS No.303-12-332 dt.07.01.2009 having Tk.1.30...</td>\n",
       "      <td>169000.00</td>\n",
       "      <td>169000.00</td>\n",
       "      <td>NaN</td>\n",
       "      <td>1</td>\n",
       "    </tr>\n",
       "    <tr>\n",
       "      <th>4</th>\n",
       "      <td>1271</td>\n",
       "      <td>Local Office</td>\n",
       "      <td>0000005182</td>\n",
       "      <td>NaN</td>\n",
       "      <td>61306116801</td>\n",
       "      <td>NAZMES SABAH SHARIFA BEGUM LIZ A SABAH SHARIFA...</td>\n",
       "      <td>128308</td>\n",
       "      <td>98518</td>\n",
       "      <td>1.0</td>\n",
       "      <td>1.0</td>\n",
       "      <td>...</td>\n",
       "      <td>189000.00</td>\n",
       "      <td>3.0</td>\n",
       "      <td>Lien/Pledge of Deposits (Earmark Funds)</td>\n",
       "      <td>95.0</td>\n",
       "      <td>BLOCK OF DEPOSIT A/C(FDR,MMP,DBDS,SCHEMES)</td>\n",
       "      <td>Lien amount of MDS-390 for  total Tk.1.89 lac</td>\n",
       "      <td>189000.00</td>\n",
       "      <td>189000.00</td>\n",
       "      <td>NaN</td>\n",
       "      <td>1</td>\n",
       "    </tr>\n",
       "    <tr>\n",
       "      <th>5</th>\n",
       "      <td>1271</td>\n",
       "      <td>Local Office</td>\n",
       "      <td>0000005206</td>\n",
       "      <td>NaN</td>\n",
       "      <td>61306116829</td>\n",
       "      <td>AKBAR  HOSSAIN</td>\n",
       "      <td>307307</td>\n",
       "      <td>184292</td>\n",
       "      <td>1.0</td>\n",
       "      <td>1.0</td>\n",
       "      <td>...</td>\n",
       "      <td>149320.08</td>\n",
       "      <td>3.0</td>\n",
       "      <td>Lien/Pledge of Deposits (Earmark Funds)</td>\n",
       "      <td>550.0</td>\n",
       "      <td>BLOCK OF DEPOSIT A/C(FDR,MMP,DBDS,SCHEMES)</td>\n",
       "      <td>Lien of MDS for Tk.0.98 lac</td>\n",
       "      <td>149320.08</td>\n",
       "      <td>149320.08</td>\n",
       "      <td>NaN</td>\n",
       "      <td>1</td>\n",
       "    </tr>\n",
       "  </tbody>\n",
       "</table>\n",
       "<p>5 rows × 40 columns</p>\n",
       "</div>"
      ],
      "text/plain": [
       "   BRANCH_ID         BRANCH_NM CUSTOMER_ID  CUSTOMER_GROUP_ID   ACCOUNT_NO  \\\n",
       "1       1271      Local Office  0000004607                NaN  63900000002   \n",
       "2       1545  Corporate Branch  0000004638                NaN  63900005929   \n",
       "3       1271      Local Office  0000005131                NaN  61306116836   \n",
       "4       1271      Local Office  0000005182                NaN  61306116801   \n",
       "5       1271      Local Office  0000005206                NaN  61306116829   \n",
       "\n",
       "                                       ACCOUNT_TITLE  PROPOSAL_ID  \\\n",
       "1                               MD.  YEAKUB MOJUMDER       280491   \n",
       "2                                 MD SIDDIQUR RAHMAN       265511   \n",
       "3                                        AMBIA AKTER       350725   \n",
       "4  NAZMES SABAH SHARIFA BEGUM LIZ A SABAH SHARIFA...       128308   \n",
       "5                                     AKBAR  HOSSAIN       307307   \n",
       "\n",
       "   COMMITMENT_ID  CUSTOMER_CATEGORY_ID  CUSTOMER_CONCENTRATION_ID  \\\n",
       "1         172197                   1.0                        8.0   \n",
       "2         165547                   1.0                        1.0   \n",
       "3         204689                   1.0                        1.0   \n",
       "4          98518                   1.0                        1.0   \n",
       "5         184292                   1.0                        1.0   \n",
       "\n",
       "         ...          COMMIT_COL_VALUE  COLLATERAL_TYPE_ID  \\\n",
       "1        ...                      0.00                 NaN   \n",
       "2        ...                      0.00                 NaN   \n",
       "3        ...                 169000.00                 3.0   \n",
       "4        ...                 189000.00                 3.0   \n",
       "5        ...                 149320.08                 3.0   \n",
       "\n",
       "                        COLLATERAL_TYPE_NM COLLATERAL_ID  \\\n",
       "1                                      NaN           NaN   \n",
       "2                                      NaN           NaN   \n",
       "3  Lien/Pledge of Deposits (Earmark Funds)         793.0   \n",
       "4  Lien/Pledge of Deposits (Earmark Funds)          95.0   \n",
       "5  Lien/Pledge of Deposits (Earmark Funds)         550.0   \n",
       "\n",
       "                          COLLATERAL_CATEGORY  \\\n",
       "1                                         NaN   \n",
       "2                                         NaN   \n",
       "3  BLOCK OF DEPOSIT A/C(FDR,MMP,DBDS,SCHEMES)   \n",
       "4  BLOCK OF DEPOSIT A/C(FDR,MMP,DBDS,SCHEMES)   \n",
       "5  BLOCK OF DEPOSIT A/C(FDR,MMP,DBDS,SCHEMES)   \n",
       "\n",
       "                                  COLLATERAL_DESCRIP  COLLATERAL_FV_MV_VALUE  \\\n",
       "1                                                NaN                     NaN   \n",
       "2                                                NaN                     NaN   \n",
       "3  MDS No.303-12-332 dt.07.01.2009 having Tk.1.30...               169000.00   \n",
       "4      Lien amount of MDS-390 for  total Tk.1.89 lac               189000.00   \n",
       "5                        Lien of MDS for Tk.0.98 lac               149320.08   \n",
       "\n",
       "   ELIGIBLE_SECURITY_VALUE  INTEREST_SUSPENSE  ACCOUNT_STATUS_ID  \n",
       "1                      NaN                NaN                  1  \n",
       "2                      NaN                NaN                  1  \n",
       "3                169000.00                NaN                  1  \n",
       "4                189000.00                NaN                  1  \n",
       "5                149320.08                NaN                  1  \n",
       "\n",
       "[5 rows x 40 columns]"
      ]
     },
     "execution_count": 54,
     "metadata": {},
     "output_type": "execute_result"
    }
   ],
   "source": [
    "# bring customer group id where customer id is not present\n",
    "d1['CUSTOMER_ID']=d1['CUSTOMER_ID'].fillna(d1['CUSTOMER_GROUP_ID'])\n",
    "\n",
    "# turn the customer id into string\n",
    "d1['CUSTOMER_ID']=d1['CUSTOMER_ID'].astype(str)\n",
    "\n",
    "# make the leading zero and turn customer id into 10 digits\n",
    "d1['CUSTOMER_ID']=d1['CUSTOMER_ID'].apply(lambda x: x.zfill(12)).str[:10]\n",
    "d1.head()"
   ]
  },
  {
   "cell_type": "code",
   "execution_count": 55,
   "metadata": {},
   "outputs": [],
   "source": [
    "# make unique id by concating branch id and collateral id\n",
    "d1['UI']=d1['BRANCH_ID'].astype(str)+d1['COLLATERAL_ID'].astype(str)"
   ]
  },
  {
   "cell_type": "code",
   "execution_count": 56,
   "metadata": {},
   "outputs": [
    {
     "data": {
      "text/plain": [
       "(55745, 41)"
      ]
     },
     "execution_count": 56,
     "metadata": {},
     "output_type": "execute_result"
    }
   ],
   "source": [
    "# drop duplicate rows by the new column UI\n",
    "d1=d1.drop_duplicates(subset='UI', keep=\"first\")\n",
    "d1.shape"
   ]
  },
  {
   "cell_type": "code",
   "execution_count": 57,
   "metadata": {},
   "outputs": [],
   "source": [
    "# fill the na is eligible collateral value with 0\n",
    "d1['ELIGIBLE_SECURITY_VALUE']=d1['ELIGIBLE_SECURITY_VALUE'].fillna(0)"
   ]
  },
  {
   "cell_type": "code",
   "execution_count": 58,
   "metadata": {},
   "outputs": [
    {
     "data": {
      "text/plain": [
       "183500370904.08997"
      ]
     },
     "execution_count": 58,
     "metadata": {},
     "output_type": "execute_result"
    }
   ],
   "source": [
    "# now group by sum for each customer id\n",
    "do=d1.groupby(['CUSTOMER_ID'])['ELIGIBLE_SECURITY_VALUE'].agg(sum)\n",
    "do=do.reset_index()\n",
    "do.head()\n",
    "do['ELIGIBLE_SECURITY_VALUE'].sum()"
   ]
  },
  {
   "cell_type": "code",
   "execution_count": 59,
   "metadata": {},
   "outputs": [
    {
     "data": {
      "text/plain": [
       "Index(['BRANCH_ID', 'BRANCH_NM', 'CUSTOMER_ID', 'CUSTOMER_GROUP_ID',\n",
       "       'ACCOUNT_NO', 'ACCOUNT_TITLE', 'PROPOSAL_ID', 'COMMITMENT_ID',\n",
       "       'PRODUCT_ID', 'SANCTION_DATE', 'DISBURSEMENT_DT', 'EXPIRY_DT',\n",
       "       'EFFECTIVE_DT', 'LIMIT_AMT', 'TOTAL_DISBURSEMENT', 'ECON_PURP_SBS_ID',\n",
       "       'CL_STATUS_ID', 'BALANCE_LCY', 'CLOSE_BALA_LCY', 'CLOSING_OS_BAL_LCY',\n",
       "       'SBS_SECTOR_CODE', 'SBS_EP_CODE', 'SBS_SECURITY_CODE', 'SBS_PRD_CODE',\n",
       "       'SBS_BILL_CODE', 'COMMIT_COL_VALUE'],\n",
       "      dtype='object')"
      ]
     },
     "execution_count": 59,
     "metadata": {},
     "output_type": "execute_result"
    }
   ],
   "source": [
    "# now the data with actual provision\n",
    "d2=pd.read_excel('D:\\GoogleDrive\\custom Codes\\Mar18\\Rating\\Loan_D1.xlsx')\n",
    "d2.columns"
   ]
  },
  {
   "cell_type": "code",
   "execution_count": 60,
   "metadata": {},
   "outputs": [],
   "source": [
    "d2['CUSTOMER_ID']=d2['CUSTOMER_ID'].fillna(d2['CUSTOMER_GROUP_ID'])\n",
    "d2['CUSTOMER_ID']=d2['CUSTOMER_ID'].astype(str).apply(lambda x: x.zfill(12))\n",
    "d2['CUSTOMER_ID']=d2['CUSTOMER_ID'].str[:10]"
   ]
  },
  {
   "cell_type": "code",
   "execution_count": 61,
   "metadata": {},
   "outputs": [
    {
     "data": {
      "text/html": [
       "<div>\n",
       "<style scoped>\n",
       "    .dataframe tbody tr th:only-of-type {\n",
       "        vertical-align: middle;\n",
       "    }\n",
       "\n",
       "    .dataframe tbody tr th {\n",
       "        vertical-align: top;\n",
       "    }\n",
       "\n",
       "    .dataframe thead th {\n",
       "        text-align: right;\n",
       "    }\n",
       "</style>\n",
       "<table border=\"1\" class=\"dataframe\">\n",
       "  <thead>\n",
       "    <tr style=\"text-align: right;\">\n",
       "      <th></th>\n",
       "      <th>CUSTOMER_ID</th>\n",
       "      <th>ELIGIBLE_SECURITY_VALUE</th>\n",
       "    </tr>\n",
       "  </thead>\n",
       "  <tbody>\n",
       "    <tr>\n",
       "      <th>0</th>\n",
       "      <td>0000000342</td>\n",
       "      <td>762500.0</td>\n",
       "    </tr>\n",
       "    <tr>\n",
       "      <th>1</th>\n",
       "      <td>0000000531</td>\n",
       "      <td>7785000.0</td>\n",
       "    </tr>\n",
       "    <tr>\n",
       "      <th>2</th>\n",
       "      <td>0000000642</td>\n",
       "      <td>2000000.0</td>\n",
       "    </tr>\n",
       "    <tr>\n",
       "      <th>3</th>\n",
       "      <td>0000000751</td>\n",
       "      <td>5309000.0</td>\n",
       "    </tr>\n",
       "    <tr>\n",
       "      <th>4</th>\n",
       "      <td>0000000752</td>\n",
       "      <td>4023000.0</td>\n",
       "    </tr>\n",
       "  </tbody>\n",
       "</table>\n",
       "</div>"
      ],
      "text/plain": [
       "  CUSTOMER_ID  ELIGIBLE_SECURITY_VALUE\n",
       "0  0000000342                 762500.0\n",
       "1  0000000531                7785000.0\n",
       "2  0000000642                2000000.0\n",
       "3  0000000751                5309000.0\n",
       "4  0000000752                4023000.0"
      ]
     },
     "execution_count": 61,
     "metadata": {},
     "output_type": "execute_result"
    }
   ],
   "source": [
    "do.head()"
   ]
  },
  {
   "cell_type": "code",
   "execution_count": 68,
   "metadata": {},
   "outputs": [
    {
     "data": {
      "text/html": [
       "<div>\n",
       "<style scoped>\n",
       "    .dataframe tbody tr th:only-of-type {\n",
       "        vertical-align: middle;\n",
       "    }\n",
       "\n",
       "    .dataframe tbody tr th {\n",
       "        vertical-align: top;\n",
       "    }\n",
       "\n",
       "    .dataframe thead th {\n",
       "        text-align: right;\n",
       "    }\n",
       "</style>\n",
       "<table border=\"1\" class=\"dataframe\">\n",
       "  <thead>\n",
       "    <tr style=\"text-align: right;\">\n",
       "      <th></th>\n",
       "      <th>CUSTOMER_ID</th>\n",
       "      <th>TOTAL_OUTSTANDING</th>\n",
       "    </tr>\n",
       "  </thead>\n",
       "  <tbody>\n",
       "    <tr>\n",
       "      <th>0</th>\n",
       "      <td>0000000342</td>\n",
       "      <td>646505.57</td>\n",
       "    </tr>\n",
       "    <tr>\n",
       "      <th>1</th>\n",
       "      <td>0000000531</td>\n",
       "      <td>1222290.46</td>\n",
       "    </tr>\n",
       "    <tr>\n",
       "      <th>2</th>\n",
       "      <td>0000000642</td>\n",
       "      <td>91771.88</td>\n",
       "    </tr>\n",
       "    <tr>\n",
       "      <th>3</th>\n",
       "      <td>0000000751</td>\n",
       "      <td>104876.85</td>\n",
       "    </tr>\n",
       "    <tr>\n",
       "      <th>4</th>\n",
       "      <td>0000000752</td>\n",
       "      <td>470921.03</td>\n",
       "    </tr>\n",
       "  </tbody>\n",
       "</table>\n",
       "</div>"
      ],
      "text/plain": [
       "  CUSTOMER_ID  TOTAL_OUTSTANDING\n",
       "0  0000000342          646505.57\n",
       "1  0000000531         1222290.46\n",
       "2  0000000642           91771.88\n",
       "3  0000000751          104876.85\n",
       "4  0000000752          470921.03"
      ]
     },
     "execution_count": 68,
     "metadata": {},
     "output_type": "execute_result"
    }
   ],
   "source": [
    "# customer id wise total outstanding\n",
    "du=d2.groupby(['CUSTOMER_ID'])['CLOSE_BALA_LCY'].agg(sum).reset_index()\n",
    "\n",
    "# rename columns\n",
    "du=du.rename(columns={'CLOSE_BALA_LCY':'TOTAL_OUTSTANDING'})\n",
    "du.head()"
   ]
  },
  {
   "cell_type": "code",
   "execution_count": 69,
   "metadata": {},
   "outputs": [
    {
     "name": "stdout",
     "output_type": "stream",
     "text": [
      "102567357006.81999\n",
      "(68085, 2)\n"
     ]
    }
   ],
   "source": [
    "print(du['TOTAL_OUTSTANDING'].sum())\n",
    "print(du.shape)"
   ]
  },
  {
   "cell_type": "code",
   "execution_count": 80,
   "metadata": {},
   "outputs": [
    {
     "name": "stdout",
     "output_type": "stream",
     "text": [
      "102567357006.82\n"
     ]
    }
   ],
   "source": [
    "# select the two columns\n",
    "dn=d2[['CUSTOMER_ID', 'CLOSE_BALA_LCY']]\n",
    "\n",
    "#mege the actual outstanding with the total outstanding per customer id\n",
    "dt=pd.merge(dn, du,  on='CUSTOMER_ID', how='left')\n",
    "dt.shape\n",
    "dt['TOTAL_OUTSTANDING'].sum()\n",
    "dt.head()\n",
    "print(dt['CLOSE_BALA_LCY'].sum())"
   ]
  },
  {
   "cell_type": "code",
   "execution_count": 72,
   "metadata": {},
   "outputs": [
    {
     "data": {
      "text/plain": [
       "(76098, 4)"
      ]
     },
     "execution_count": 72,
     "metadata": {},
     "output_type": "execute_result"
    }
   ],
   "source": [
    "# merge total collateral data with total outstanding and actual outstanding\n",
    "dm=pd.merge(dt, do, on='CUSTOMER_ID', how='left')\n",
    "dm.shape"
   ]
  },
  {
   "cell_type": "code",
   "execution_count": 83,
   "metadata": {},
   "outputs": [
    {
     "data": {
      "text/plain": [
       "175834104542.97"
      ]
     },
     "execution_count": 83,
     "metadata": {},
     "output_type": "execute_result"
    }
   ],
   "source": [
    "# now calculate collateral value for each account (based on its outstanding)\n",
    "dm['COL_PER_AC']=dm['ELIGIBLE_SECURITY_VALUE']*dm['CLOSE_BALA_LCY']/dm['TOTAL_OUTSTANDING']\n",
    "dm.head()\n",
    "dm['COL_PER_AC'].sum()"
   ]
  }
 ],
 "metadata": {
  "kernelspec": {
   "display_name": "Python 3",
   "language": "python",
   "name": "python3"
  },
  "language_info": {
   "codemirror_mode": {
    "name": "ipython",
    "version": 3
   },
   "file_extension": ".py",
   "mimetype": "text/x-python",
   "name": "python",
   "nbconvert_exporter": "python",
   "pygments_lexer": "ipython3",
   "version": "3.6.4"
  }
 },
 "nbformat": 4,
 "nbformat_minor": 2
}
