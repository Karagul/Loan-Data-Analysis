{
 "cells": [
  {
   "cell_type": "code",
   "execution_count": 3,
   "metadata": {},
   "outputs": [],
   "source": [
    "import pandas as pd\n",
    "import numpy as nm"
   ]
  },
  {
   "cell_type": "code",
   "execution_count": 32,
   "metadata": {},
   "outputs": [
    {
     "data": {
      "text/plain": [
       "(98179, 40)"
      ]
     },
     "execution_count": 32,
     "metadata": {},
     "output_type": "execute_result"
    }
   ],
   "source": [
    "# read the data\n",
    "d1=pd.read_excel('D:\\GoogleDrive\\custom Codes\\Mar18\\Collateral\\Loan_Data2.xlsx')\n",
    "# see the dimension\n",
    "d1.shape"
   ]
  },
  {
   "cell_type": "code",
   "execution_count": 33,
   "metadata": {},
   "outputs": [],
   "source": [
    "# bring customer group id where customer id is not present\n",
    "d1['CUSTOMER_ID']=d1['CUSTOMER_ID'].fillna(d1['CUSTOMER_GROUP_ID'])\n",
    "\n",
    "# turn the customer id into string\n",
    "d1['CUSTOMER_ID']=d1['CUSTOMER_ID'].astype(str)\n",
    "\n",
    "# make the leading zero and turn customer id into 10 digits\n",
    "d1['CUSTOMER_ID']=d1['CUSTOMER_ID'].apply(lambda x: x.zfill(12)).str[:10]\n",
    "#d1.head()"
   ]
  },
  {
   "cell_type": "code",
   "execution_count": 34,
   "metadata": {},
   "outputs": [],
   "source": [
    "# make unique id by concating branch id and collateral id\n",
    "d1['UI']=d1['BRANCH_ID'].astype(str)+d1['COLLATERAL_ID'].astype(str)"
   ]
  },
  {
   "cell_type": "code",
   "execution_count": 35,
   "metadata": {},
   "outputs": [
    {
     "data": {
      "text/plain": [
       "(55745, 41)"
      ]
     },
     "execution_count": 35,
     "metadata": {},
     "output_type": "execute_result"
    }
   ],
   "source": [
    "# drop duplicate rows by the new column UI\n",
    "d1=d1.drop_duplicates(subset='UI', keep=\"first\")\n",
    "d1.shape"
   ]
  },
  {
   "cell_type": "code",
   "execution_count": 36,
   "metadata": {},
   "outputs": [],
   "source": [
    "# fill the na is eligible collateral value with 0\n",
    "d1['ELIGIBLE_SECURITY_VALUE']=d1['ELIGIBLE_SECURITY_VALUE'].fillna(0)"
   ]
  },
  {
   "cell_type": "code",
   "execution_count": 37,
   "metadata": {},
   "outputs": [
    {
     "data": {
      "text/plain": [
       "183500370904.08997"
      ]
     },
     "execution_count": 37,
     "metadata": {},
     "output_type": "execute_result"
    }
   ],
   "source": [
    "# now group by sum for each customer id\n",
    "do=d1.groupby(['CUSTOMER_ID'])['ELIGIBLE_SECURITY_VALUE'].agg(sum)\n",
    "do=do.reset_index()\n",
    "do.head()\n",
    "do['ELIGIBLE_SECURITY_VALUE'].sum()"
   ]
  },
  {
   "cell_type": "code",
   "execution_count": 38,
   "metadata": {},
   "outputs": [],
   "source": [
    "# now the data with actual provision\n",
    "d2=pd.read_excel('D:\\GoogleDrive\\custom Codes\\Mar18\\Collateral\\Loan_D1.xlsx')\n",
    "#d2.columns"
   ]
  },
  {
   "cell_type": "code",
   "execution_count": 39,
   "metadata": {},
   "outputs": [],
   "source": [
    "d2['CUSTOMER_ID']=d2['CUSTOMER_ID'].fillna(d2['CUSTOMER_GROUP_ID'])\n",
    "d2['CUSTOMER_ID']=d2['CUSTOMER_ID'].astype(str).apply(lambda x: x.zfill(12))\n",
    "d2['CUSTOMER_ID']=d2['CUSTOMER_ID'].str[:10]"
   ]
  },
  {
   "cell_type": "code",
   "execution_count": 40,
   "metadata": {},
   "outputs": [],
   "source": [
    "#do.head()"
   ]
  },
  {
   "cell_type": "code",
   "execution_count": 41,
   "metadata": {},
   "outputs": [],
   "source": [
    "# customer id wise total outstanding\n",
    "du=d2.groupby(['CUSTOMER_ID'])['CLOSE_BALA_LCY'].agg(sum).reset_index()\n",
    "\n",
    "# rename columns\n",
    "du=du.rename(columns={'CLOSE_BALA_LCY':'TOTAL_OUTSTANDING'})\n",
    "#du.head()"
   ]
  },
  {
   "cell_type": "code",
   "execution_count": 43,
   "metadata": {},
   "outputs": [
    {
     "name": "stdout",
     "output_type": "stream",
     "text": [
      "102567357006.81999\n",
      "(68085, 2)\n"
     ]
    }
   ],
   "source": [
    "print(du['TOTAL_OUTSTANDING'].sum())\n",
    "print(du.shape)"
   ]
  },
  {
   "cell_type": "code",
   "execution_count": 44,
   "metadata": {},
   "outputs": [
    {
     "name": "stdout",
     "output_type": "stream",
     "text": [
      "102567357006.82\n"
     ]
    }
   ],
   "source": [
    "# select the two columns\n",
    "dn=d2[['CUSTOMER_ID', 'CLOSE_BALA_LCY']]\n",
    "\n",
    "#mege the actual outstanding with the total outstanding per customer id\n",
    "dt=pd.merge(dn, du,  on='CUSTOMER_ID', how='left')\n",
    "dt.shape\n",
    "dt['TOTAL_OUTSTANDING'].sum()\n",
    "dt.head()\n",
    "print(dt['CLOSE_BALA_LCY'].sum())"
   ]
  },
  {
   "cell_type": "code",
   "execution_count": 45,
   "metadata": {},
   "outputs": [
    {
     "data": {
      "text/plain": [
       "(76098, 4)"
      ]
     },
     "execution_count": 45,
     "metadata": {},
     "output_type": "execute_result"
    }
   ],
   "source": [
    "# merge total collateral data with total outstanding and actual outstanding\n",
    "dm=pd.merge(dt, do, on='CUSTOMER_ID', how='left')\n",
    "dm.shape"
   ]
  },
  {
   "cell_type": "code",
   "execution_count": 46,
   "metadata": {},
   "outputs": [
    {
     "data": {
      "text/plain": [
       "175834104542.96997"
      ]
     },
     "execution_count": 46,
     "metadata": {},
     "output_type": "execute_result"
    }
   ],
   "source": [
    "# now calculate collateral value for each account (based on its outstanding)\n",
    "dm['COL_PER_AC']=dm['ELIGIBLE_SECURITY_VALUE']*dm['CLOSE_BALA_LCY']/dm['TOTAL_OUTSTANDING']\n",
    "dm.head()\n",
    "dm['COL_PER_AC'].sum()"
   ]
  }
 ],
 "metadata": {
  "kernelspec": {
   "display_name": "Python 3",
   "language": "python",
   "name": "python3"
  },
  "language_info": {
   "codemirror_mode": {
    "name": "ipython",
    "version": 3
   },
   "file_extension": ".py",
   "mimetype": "text/x-python",
   "name": "python",
   "nbconvert_exporter": "python",
   "pygments_lexer": "ipython3",
   "version": "3.6.4"
  }
 },
 "nbformat": 4,
 "nbformat_minor": 2
}
