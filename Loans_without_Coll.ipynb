{
 "cells": [
  {
   "cell_type": "code",
   "execution_count": 1,
   "metadata": {},
   "outputs": [],
   "source": [
    "import pandas as pd\n",
    "import numpy as np\n",
    "d=pd.read_excel('D:\\GoogleDrive\\custom Codes\\Mar18\\Collateral\\Loan_D1.xlsx')"
   ]
  },
  {
   "cell_type": "code",
   "execution_count": 2,
   "metadata": {},
   "outputs": [],
   "source": [
    "#d.head()"
   ]
  },
  {
   "cell_type": "code",
   "execution_count": 3,
   "metadata": {},
   "outputs": [],
   "source": [
    "# get the column names\n",
    "#d.columns"
   ]
  },
  {
   "cell_type": "code",
   "execution_count": 4,
   "metadata": {},
   "outputs": [],
   "source": [
    "# isin \n",
    "d1=d[(d['SBS_SECURITY_CODE'].isin([73, 75, 76]))]\n",
    "#d1.head()"
   ]
  },
  {
   "cell_type": "code",
   "execution_count": 43,
   "metadata": {},
   "outputs": [
    {
     "data": {
      "text/plain": [
       "(168, 26)"
      ]
     },
     "execution_count": 43,
     "metadata": {},
     "output_type": "execute_result"
    }
   ],
   "source": [
    "l1=pd.Series(range(606, 630))\n",
    "l2=pd.Series(range(634, 714))\n",
    "l3=pd.Series(range(720,751))\n",
    "\n",
    "l=l1.append(l2).append(l3)\n",
    "\n",
    "# is not in ~\n",
    "d1=d1[(~d1['PRODUCT_ID'].isin(l))]\n",
    "d1.shape"
   ]
  },
  {
   "cell_type": "code",
   "execution_count": 5,
   "metadata": {},
   "outputs": [],
   "source": [
    "# crosstab\n",
    "#pd.crosstab(index=d1['PRODUCT_ID'], columns='count')"
   ]
  },
  {
   "cell_type": "code",
   "execution_count": 6,
   "metadata": {},
   "outputs": [
    {
     "data": {
      "text/plain": [
       "True"
      ]
     },
     "execution_count": 6,
     "metadata": {},
     "output_type": "execute_result"
    }
   ],
   "source": [
    "p=pd.pivot_table(d1, index=['CUSTOMER_ID'], values='CLOSE_BALA_LCY', aggfunc=[len, sum])\n",
    "\n",
    "# modifying the column names\n",
    "p.columns = p.columns.to_series().str.join('_')\n",
    "\n",
    "# convert to regular data frame\n",
    "p = p.reset_index().rename_axis(None, axis=1)\n",
    "p1=p.copy()\n",
    "p1['sum_CLOSE_BALA_LCY']=p1['sum_CLOSE_BALA_LCY']/10000000\n",
    "\n",
    "# sort a column\n",
    "p1=p1.sort_values(by='sum_CLOSE_BALA_LCY', ascending=False)\n",
    "\n",
    "#make the customer id column string\n",
    "p1['CUSTOMER_ID']=p1['CUSTOMER_ID'].astype(str)\n",
    "\n",
    "# check whether the column is string or not\n",
    "from pandas.api.types import is_string_dtype\n",
    "is_string_dtype(p1['CUSTOMER_ID'])\n",
    "\n",
    "#p1"
   ]
  },
  {
   "cell_type": "code",
   "execution_count": 7,
   "metadata": {},
   "outputs": [],
   "source": [
    "# add leading 0 to make 10 character string, 12 is put here as theere is a decimal and a 0 after\n",
    "p1['CUSTOMER_ID']=p1['CUSTOMER_ID'].apply(lambda x: x.zfill(12))\n",
    "\n",
    "# substr and remove the decimal and zero\n",
    "p1['CUSTOMER_ID']=p1['CUSTOMER_ID'].str[:10]\n",
    "\n",
    "# rename the columns\n",
    "p1=p1.rename(columns={'len_CLOSE_BALA_LCY':'NO_OF_AC'})\n",
    "\n",
    "# make the account no column integer\n",
    "p1['NO_OF_AC']=p1['NO_OF_AC'].astype(int)\n",
    "\n",
    "# make the index ordered\n",
    "p1.index=np.arange(0, len(p1))\n",
    "#p1"
   ]
  },
  {
   "cell_type": "code",
   "execution_count": 47,
   "metadata": {},
   "outputs": [],
   "source": [
    "# turn d1 customer id string, fill upto 12 and then keep only the first 10 characters\n",
    "d1['CUSTOMER_ID']=d1['CUSTOMER_ID'].astype(str).apply(lambda x: x.zfill(12)).str[:10]"
   ]
  },
  {
   "cell_type": "code",
   "execution_count": 8,
   "metadata": {},
   "outputs": [],
   "source": [
    "# merge the two data frames\n",
    "dd=pd.merge(p1, d1, on='CUSTOMER_ID', how='left')\n",
    "\n",
    "# keep the desired columns and remove the duplicates\n",
    "dd=dd.iloc[:,[0, 7, 1, 2]].drop_duplicates()\n",
    "\n",
    "# rename columns\n",
    "dd=dd.rename(columns={'len_CLOSE_BALA_LCY':'NO OF AC', 'sum_CLOSE_BALA_LCY':'TOTAL BALANCE'})\n",
    "\n",
    "#dd"
   ]
  }
 ],
 "metadata": {
  "kernelspec": {
   "display_name": "Python 3",
   "language": "python",
   "name": "python3"
  },
  "language_info": {
   "codemirror_mode": {
    "name": "ipython",
    "version": 3
   },
   "file_extension": ".py",
   "mimetype": "text/x-python",
   "name": "python",
   "nbconvert_exporter": "python",
   "pygments_lexer": "ipython3",
   "version": "3.6.4"
  }
 },
 "nbformat": 4,
 "nbformat_minor": 2
}
